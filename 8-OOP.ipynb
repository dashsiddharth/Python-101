{
 "cells": [
  {
   "cell_type": "markdown",
   "metadata": {},
   "source": [
    "%%html\n",
    "<body>\n",
    "<nav style =\"background-color:#6f6fcd\" class=\"navbar navbar-inverse navbar-fixed-top\">\n",
    "  <div class=\"container-fluid\">\n",
    "    <div class=\"navbar-header\">\n",
    "      <a class=\"navbar-brand\" href=\"#\"> <span style =\"color:#00DBE5\"> Siddharth Dash </span></a>\n",
    "    </div>\n",
    "    <ul class=\"nav navbar-nav\">\n",
    "      \n",
    "      <li class=\"active\"><a href=\"#\">python</a></li>\n",
    "    </ul>\n",
    "    <ul class=\"nav navbar-nav navbar-right\">\n",
    "      <li><a href=\"#\"> <span style =\"color:#003D40\" class=\"glyphicon glyphicon-pencil\"> PROJECT </span> </a> </li>\n",
    "      <li><a href=\"#\">\n",
    "          <span style =\"color:#003D40\"class=\"glyphicon glyphicon-file\">RESUME</span>  \n",
    "        </a></li>\n",
    "      <li><a  href=\"#\"><span style =\"color:#003D40\" class=\"glyphicon glyphicon-user\">ABOUT ME</span> </a></li>\n",
    "    </ul>\n",
    "  </div>\n",
    "</nav>\n",
    "</body>"
   ]
  },
  {
   "cell_type": "markdown",
   "metadata": {},
   "source": [
    "# Class"
   ]
  },
  {
   "cell_type": "markdown",
   "metadata": {
    "collapsed": true
   },
   "source": [
    "Every thing in python is class. Even the function are classes in python. for example the add(+) function "
   ]
  },
  {
   "cell_type": "code",
   "execution_count": null,
   "metadata": {
    "collapsed": true
   },
   "outputs": [],
   "source": [
    "a= 10;\n",
    "b =11;\n",
    "print(a.__add__(b))"
   ]
  },
  {
   "cell_type": "markdown",
   "metadata": {},
   "source": [
    "class: A user-deﬁned compound type. A class can also be thought of as a template for the objects that are instances of it. \n",
    "  instantiate: To create an instance of a class.   \n",
    "  instance: An object that belongs to a class.       \n",
    "  object: A compound data type that is often used to model a thing or concept in the real world.    \n",
    "  constructor: A method used to create new objects. \n",
    "  attribute: One of the named data items that makes up an instance. "
   ]
  },
  {
   "cell_type": "markdown",
   "metadata": {},
   "source": [
    "# Creating a cash register"
   ]
  },
  {
   "cell_type": "markdown",
   "metadata": {},
   "source": [
    "We are going to create a cash reigter with some one rupee (INR) coin called _ek_, five rupee coin called _panch_,  ten rupee coin called _Dus_, fifty rupee note called _pachas_ and thousand rupee note called _hajar_ we will asume that the cash register will not deal with any other type of coins or bank notes such as Rs 100 notes or Rs 2 coins. \n",
    "\n",
    "\n",
    "for our example with are going to create a cash register with 5 ek, 10 panch, 5 dus and 1 hajar rupees cash with a total of Rs. 1,105"
   ]
  },
  {
   "cell_type": "markdown",
   "metadata": {},
   "source": [
    "For this aggistment we are going to print the total value in the cash Register then add 5 Rs ten coins into the cash register and then we will remove five Rs 5 coins from the cash register and hopfully we will have a total of Rs 1,080 in our register when we print the total ammount at the end of our trancation "
   ]
  },
  {
   "cell_type": "code",
   "execution_count": null,
   "metadata": {
    "collapsed": true
   },
   "outputs": [],
   "source": [
    "register = CashRegister(5,10,5,0,1)  \n",
    "print(register.get_total())\n",
    "register.add(5, 'dus')\n",
    "register.remove(5,'panch')\n",
    "\n",
    "print(register.get_total())"
   ]
  },
  {
   "cell_type": "markdown",
   "metadata": {},
   "source": [
    "the problem is we do not have a class called cash register defined into the python so we have to create a class called cash register which can deal with our problem"
   ]
  },
  {
   "cell_type": "code",
   "execution_count": null,
   "metadata": {
    "collapsed": true
   },
   "outputs": [],
   "source": [
    "class CashRegister:\n",
    "    def __init__(self, ek, panch, Dus, pachas, harjar ):\n",
    "        \"\"\"(cashRegister, int, int, int, int, int) -> NoneType\n",
    "        A cash Register which recive ek, panch, Dus, pachas, hajar denomination  \n",
    "        \"\"\"\n",
    "        self.ek = ek\n",
    "        self.panch = panch\n",
    "        self.Dus = Dus\n",
    "        self.pachas = pachas\n",
    "        self.harjar = harjar\n",
    "    def get_total(self):\n",
    "        '''\n",
    "        CashRegister -> int\n",
    "        \n",
    "        Retruns the total amoount of cash in the register\n",
    "        '''\n",
    "        return self.ek + self.panch* 5 + self.Dus*10 + self.pachas * 50 + self.harjar*1000\n",
    "    def add (self, count, denomination):\n",
    "        '''\n",
    "        Add the count of notes or coins into the register\n",
    "        '''\n",
    "        if denomination == 'ek':\n",
    "            self.ek += count\n",
    "        if denomination == 'panch':\n",
    "            self.panch += count\n",
    "        if denomination == 'Dus':\n",
    "            self.Dus += count\n",
    "        if denomination == 'pachas':\n",
    "            self.pachas += count\n",
    "        if denomination == 'hajar':\n",
    "            self.harjar += count\n",
    "    def remove (self, count, denomination):\n",
    "        '''\n",
    "        remove the count of notes or coins from the register\n",
    "        '''\n",
    "        if denomination == 'ek':\n",
    "            self.ek -= count\n",
    "        if denomination == 'panch':\n",
    "            self.panch -= count\n",
    "        if denomination == 'Dus':\n",
    "            self.Dus -= count\n",
    "        if denomination == 'pachas':\n",
    "            self.pachas -= count\n",
    "        if denomination == 'hajar':\n",
    "            self.harjar -= count"
   ]
  },
  {
   "cell_type": "code",
   "execution_count": null,
   "metadata": {
    "collapsed": true
   },
   "outputs": [],
   "source": [
    "register = CashRegister(5,10,5,0,1) \n",
    "print(register.get_total())\n",
    "register.add(5, 'dus')\n",
    "register.remove(5,'panch')\n",
    "\n",
    "print(\"ammount in CashREgister is \", register.get_total())\n",
    "\n"
   ]
  },
  {
   "cell_type": "markdown",
   "metadata": {},
   "source": [
    "## Creating a bank account "
   ]
  },
  {
   "cell_type": "code",
   "execution_count": 18,
   "metadata": {},
   "outputs": [],
   "source": [
    "class Account:\n",
    "    \"\"\"simple account balance of bank\"\"\"\n",
    "    def __init__ (self, name, balance):\n",
    "        self.name = name\n",
    "        self.balance = balance\n",
    "        print('Account of ' + self.name)\n",
    "    def deposit(self, amount):\n",
    "        if amount > 0:\n",
    "            self.balance += amount\n",
    "            self.statement()\n",
    "    def withdrawal(self, amount):\n",
    "        if amount > 0 and self.balance > amount:\n",
    "            self.balance -= amount\n",
    "            self.statement()\n",
    "        else:\n",
    "            print(\"the ammount in your is not sufficent\")\n",
    "            self.statement()\n",
    "    def statement(self):\n",
    "        print(\"Hi {} your current balance is {}\".format(self.name,self.balance))\n",
    "        "
   ]
  },
  {
   "cell_type": "code",
   "execution_count": 19,
   "metadata": {},
   "outputs": [
    {
     "name": "stdout",
     "output_type": "stream",
     "text": [
      "Account of abc\n"
     ]
    }
   ],
   "source": [
    "abc = Account(\"abc\", 0)"
   ]
  },
  {
   "cell_type": "code",
   "execution_count": 20,
   "metadata": {},
   "outputs": [
    {
     "data": {
      "text/plain": [
       "'abc'"
      ]
     },
     "execution_count": 20,
     "metadata": {},
     "output_type": "execute_result"
    }
   ],
   "source": [
    "abc.name"
   ]
  },
  {
   "cell_type": "code",
   "execution_count": 21,
   "metadata": {},
   "outputs": [
    {
     "name": "stdout",
     "output_type": "stream",
     "text": [
      "Hi abc your current balance is 1000\n"
     ]
    }
   ],
   "source": [
    "abc.deposit(1000)"
   ]
  },
  {
   "cell_type": "code",
   "execution_count": 22,
   "metadata": {},
   "outputs": [
    {
     "name": "stdout",
     "output_type": "stream",
     "text": [
      "1000\n"
     ]
    }
   ],
   "source": [
    "print(abc.balance)"
   ]
  },
  {
   "cell_type": "code",
   "execution_count": 23,
   "metadata": {},
   "outputs": [
    {
     "name": "stdout",
     "output_type": "stream",
     "text": [
      "Account of sanujit\n"
     ]
    }
   ],
   "source": [
    "sanujit = Account(\"sanujit\", 100)"
   ]
  },
  {
   "cell_type": "code",
   "execution_count": 24,
   "metadata": {},
   "outputs": [
    {
     "data": {
      "text/plain": [
       "'sanujit'"
      ]
     },
     "execution_count": 24,
     "metadata": {},
     "output_type": "execute_result"
    }
   ],
   "source": [
    "sanujit.name"
   ]
  },
  {
   "cell_type": "code",
   "execution_count": 25,
   "metadata": {},
   "outputs": [
    {
     "data": {
      "text/plain": [
       "100"
      ]
     },
     "execution_count": 25,
     "metadata": {},
     "output_type": "execute_result"
    }
   ],
   "source": [
    "sanujit.balance"
   ]
  },
  {
   "cell_type": "code",
   "execution_count": 48,
   "metadata": {},
   "outputs": [
    {
     "name": "stdout",
     "output_type": "stream",
     "text": [
      "Hi sanujit your current balance is 22\n"
     ]
    }
   ],
   "source": [
    "sanujit.withdrawal(111)"
   ]
  },
  {
   "cell_type": "code",
   "execution_count": 27,
   "metadata": {},
   "outputs": [
    {
     "name": "stdout",
     "output_type": "stream",
     "text": [
      "Account of siddharth\n"
     ]
    }
   ],
   "source": [
    "siddharth = Account(\"siddharth\", 159)"
   ]
  },
  {
   "cell_type": "code",
   "execution_count": 28,
   "metadata": {},
   "outputs": [
    {
     "data": {
      "text/plain": [
       "159"
      ]
     },
     "execution_count": 28,
     "metadata": {},
     "output_type": "execute_result"
    }
   ],
   "source": [
    "siddharth.balance"
   ]
  },
  {
   "cell_type": "code",
   "execution_count": 29,
   "metadata": {},
   "outputs": [
    {
     "name": "stdout",
     "output_type": "stream",
     "text": [
      "Hi siddharth your current balance is 159\n",
      "None\n"
     ]
    }
   ],
   "source": [
    "print(siddharth.statement())"
   ]
  },
  {
   "cell_type": "code",
   "execution_count": 45,
   "metadata": {},
   "outputs": [],
   "source": [
    "def transfer(Account1, amount, Account2):\n",
    "        Account1.balance = Account1.balance - amount\n",
    "        Account2.balance = Account2.balance + amount \n",
    "        print (\"tranfered\", amount, \"from\", Account1.name, \"to\", Account2.name, \"balance after transfer\", Account1.name, Account1.balance, 'and',Account2.name, Account2.balance )"
   ]
  },
  {
   "cell_type": "code",
   "execution_count": 46,
   "metadata": {},
   "outputs": [
    {
     "name": "stdout",
     "output_type": "stream",
     "text": [
      "tranfered 11 from siddharth to abc balance after transfer siddharth 71 and abc 1088\n"
     ]
    }
   ],
   "source": [
    "transfer(siddharth, 11, abc)"
   ]
  },
  {
   "cell_type": "code",
   "execution_count": 47,
   "metadata": {},
   "outputs": [
    {
     "name": "stdout",
     "output_type": "stream",
     "text": [
      "tranfered 33 from abc to sanujit balance after transfer abc 1055 and sanujit 133\n"
     ]
    }
   ],
   "source": [
    "transfer(abc, 33, sanujit)"
   ]
  },
  {
   "cell_type": "code",
   "execution_count": null,
   "metadata": {
    "collapsed": true
   },
   "outputs": [],
   "source": []
  }
 ],
 "metadata": {
  "anaconda-cloud": {},
  "kernelspec": {
   "display_name": "Python 3",
   "language": "python",
   "name": "python3"
  },
  "language_info": {
   "codemirror_mode": {
    "name": "ipython",
    "version": 3
   },
   "file_extension": ".py",
   "mimetype": "text/x-python",
   "name": "python",
   "nbconvert_exporter": "python",
   "pygments_lexer": "ipython3",
   "version": "3.6.2"
  }
 },
 "nbformat": 4,
 "nbformat_minor": 1
}
